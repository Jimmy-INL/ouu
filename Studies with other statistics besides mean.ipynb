{
 "cells": [
  {
   "cell_type": "markdown",
   "metadata": {},
   "source": [
    "## Investigating the potential benefits of optimization with other statistics \n",
    "\n",
    "* Goal as always is to obtain more robust solutions.\n",
    "* What's so special about the mean?\n",
    "* Look into percentiles.\n",
    "* significance of tail contributions.\n",
    "* Higher order moments?\n"
   ]
  },
  {
   "cell_type": "code",
   "execution_count": 3,
   "metadata": {},
   "outputs": [],
   "source": [
    "import numpy as np\n",
    "import matplotlib.pyplot as plt\n",
    "\n",
    "D = 126.4          # rotor diameter\n",
    "\n",
    "# x = np.array([0., 3.*D, 6.*D, 0., 3.*D, 6.*D, 0., 3.*D, 6.*D])            # x and y locations\n",
    "# y = np.array([0., 0., 0., 3.*D, 3.*D, 3.*D, 6.*D, 6.*D, 6.*D])\n",
    "\n",
    "x = [0., 3.*D, 3.*D, 0.]            # x and y locations\n",
    "y = [0., 0., 3.*D, 3.*D]\n"
   ]
  },
  {
   "cell_type": "code",
   "execution_count": 5,
   "metadata": {},
   "outputs": [
    {
     "name": "stdout",
     "output_type": "stream",
     "text": [
      "\n"
     ]
    }
   ],
   "source": [
    "import numpy as np\n",
    "\n",
    "\"\"\"the jensen wake model\"\"\"\n",
    "\n",
    "def Jensen_wake(x,y, U):\n",
    "    \n",
    "    k = 0.075      # wake decay constant\n",
    "    D = 126.4      # rotor diameter\n",
    "    Ct = 0.8       # thrust coefficient\n",
    "    \n",
    "    s = x/D        # relative distance downwind \n",
    "    \n",
    "    Dw = D* (1. + 2.*k*s)               # wake diameter\n",
    "       \n",
    "    U_hub = U*(1. - (1. - np.sqrt(1. - Ct))/(1. + s*k*s)**2)          # hub velocity\n",
    "    \n",
    "    return U_hub"
   ]
  },
  {
   "cell_type": "code",
   "execution_count": 6,
   "metadata": {},
   "outputs": [
    {
     "name": "stdout",
     "output_type": "stream",
     "text": [
      "Power: [ 2230280.95623081  1154678.1330182   1154678.1330182   2230280.95623081] W\n"
     ]
    }
   ],
   "source": [
    "\"\"\" Power calculation \"\"\"\n",
    "\n",
    "\n",
    "def jensen_power(x, y, U):\n",
    "    \n",
    "    rho = 1.1716                   # air density   \n",
    "    a = 1. / 3.                    # axial induction\n",
    "    Cp = 4.*a*(1-a)**2.            #power coefficient\n",
    "    \n",
    "    D = 126.4\n",
    "    \n",
    "    r0 = D/2.\n",
    "\n",
    "    A = np.pi*r0**2        #  rotor swept area\n",
    "    \n",
    "    U_hub1 = np.zeros(len(x))\n",
    "    Power = np.zeros(len(x))\n",
    "    \n",
    "    \n",
    "    U_hub1[0] = U\n",
    "    U_hub1[1] = Jensen_wake((x[1]-x[0]), (y[1]-y[0]), U)\n",
    "    U_hub1[2] = Jensen_wake((x[2]-x[3]), (y[2]-y[3]), U)\n",
    "    U_hub1[3] = U\n",
    "    \n",
    "    # Calculate power from each turbine\n",
    "    for i in range(len(U_hub1)):\n",
    "        \n",
    "        Power[i] = 0.5*rho*Cp*A*U_hub1[i]**3\n",
    "           \n",
    "    return Power\n",
    "\n",
    "U = 8.\n",
    "\n",
    "print \"Power:\", jensen_power(x,y, U), \"W\"\n"
   ]
  },
  {
   "cell_type": "code",
   "execution_count": 12,
   "metadata": {},
   "outputs": [
    {
     "name": "stdout",
     "output_type": "stream",
     "text": [
      "(86.102098875051453, 'GWh')\n",
      "(229.80560101567445, 'GWh')\n"
     ]
    }
   ],
   "source": [
    "import chaospy  as cp\n",
    "\n",
    "dist = cp.Weibull(1.8, 12.55, 0.) # wind speed distribution\n",
    "\n",
    "U_inf = dist.sample(120000, \"M\")\n",
    "\n",
    "solves = np.zeros((len(U_inf), len(x)))\n",
    "mu_mc = np.zeros(len(U_inf))\n",
    "\n",
    "for i in range(len(solves)):\n",
    "    solves[i,:] = jensen_power(x,y, U_inf[i])# for s in U_inf]\n",
    "    mu_mc[i] = np.mean(solves[i,:])\n",
    "\n",
    "# print solves\n",
    "\n",
    "AEP_mc1 = 8760*np.mean(mu_mc)/1e9, \"GWh\"\n",
    "AEP_mc2 = 8760*np.percentile(mu_mc, 90)/1e9, \"GWh\"\n",
    "\n",
    "print AEP_mc1\n",
    "print AEP_mc2"
   ]
  },
  {
   "cell_type": "code",
   "execution_count": null,
   "metadata": {},
   "outputs": [],
   "source": [
    "# Quadrature\n",
    "\n",
    "order = 5\n",
    "\n",
    "poly = cp.orth_ttr(order, dist)\n",
    "nodes, weights = cp.generate_quadrature(order+1, dist, rule=\"G\")\n",
    "\n",
    "solves1 = [jensen_power(x, y, s) for s in nodes.T]\n",
    "P_hat1 = cp.fit_quadrature(poly, nodes, weights, solves1)\n",
    "\n",
    "mu_quad = cp.E(P_hat1, dist)     # mean from the quadrature method\n",
    "\n",
    "AEP_quad = 8760*np.mean(mu_quad)/1e9\n",
    "\n",
    "print AEP_quad,\":,GWh\""
   ]
  },
  {
   "cell_type": "code",
   "execution_count": null,
   "metadata": {},
   "outputs": [],
   "source": []
  }
 ],
 "metadata": {
  "kernelspec": {
   "display_name": "Python 2",
   "language": "python",
   "name": "python2"
  },
  "language_info": {
   "codemirror_mode": {
    "name": "ipython",
    "version": 2
   },
   "file_extension": ".py",
   "mimetype": "text/x-python",
   "name": "python",
   "nbconvert_exporter": "python",
   "pygments_lexer": "ipython2",
   "version": "2.7.14"
  }
 },
 "nbformat": 4,
 "nbformat_minor": 2
}
