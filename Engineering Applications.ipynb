{
 "cells": [
  {
   "cell_type": "markdown",
   "metadata": {},
   "source": [
    "## Wind Farm Applications\n",
    "\n",
    "Much investigation is carried out to predict the annual energy production (AEP), and Cost of Energy (COE) of wind farms in assessment of the viability of wind energy projects. Wind farm layout design is a multidisciplinary process with many design variables. Aerodynamic variables including wind speed and direction are  characterized by much uncertainty. However in some simulations these are usually treated deterministically, resulting in energy underproduction in\n",
    "the operational lifetimes of farms. To develop more robust models the afore mentioned design variables must be\n",
    "properly described to present a near real life situation. This work focuses on the quantification of uncertainties associated with yaw orientation, and wind speeds in wind farm layout optimization with Monte Carlo Methods. An understanding, and proper treatment of these uncertainties will greatly aid in the realization of more robust farm layout designs, ultimately improving the accuracy of annual power output predictions.\n",
    "\n",
    "\n",
    "### Example 1 AEP  Calculation\n",
    "\n",
    "We will consider the power of a wind farm to be a function of three classes of variables: uncertain variables $\\zeta$, design variables $x$, and parameters $\\theta$, $ P = P(\\zeta, x, \\theta)$.\n",
    "\n",
    "  \n",
    "|  |  |\n",
    "|----------|----------|\n",
    "| **Design, $x,y$:** | turbine locations x, and y |\n",
    "| **Uncertain variables, $\\zeta$:** | wind, speed and direction |\n",
    "| **Parameters, $\\theta$:** | yaw angles, turbine characteristics, and wake model parameters|\n",
    "\n",
    "\n",
    "\n",
    "Uncertain variables are variables that follow a probability distribution, design variables are variables that an optimizer can vary, and parameters are constants. The classification of the variables is problem dependent. For instance, the height of a turbine could be considered as a design variable if we allow the optimizer to vary it, as an uncertain variable if we assume that due to terrain or manufacturing variability the exact height is unknown but follows a particular probability distribution, or as a parameter if we set the turbine height in the model at a fixed value. Another example is the rotor yaw, which can be considered a design variable or a parameter. A tunable parameter of a wake model, such as the wake coefficient expansion, could be\n",
    "considered as a parameter or as an uncertain variable given by a particular distribution.\n",
    "For the problems considered in this work, table 1 lists in which category we put each variable that influences the power computation. \n",
    "\n",
    "The power of the wind farm for a given wind direction and wind speed is equal to the sum of the power produced by each turbine\n",
    "\n",
    "\\begin{equation}\n",
    " P = \\sum_{i=1}^{n_{turb}} P_{i} \n",
    "\\end{equation}\n",
    "\n",
    "The power of each turbine is calculated from\n",
    "\n",
    "\\begin{equation}\n",
    " P_{i} = \\frac{1}{2}\\rho C_P A U_{i}^{3} \n",
    "\\end{equation}\n",
    "\n",
    "where $\\rho$ is the air density, $A$ is the rotor swept area, $C_P$ is the power coefficient, and $U_i$ is the effective hub velocity for each turbine, which is calculated by the wake model and is a function of the three types of variables described above\n",
    "\n",
    "#### Wake model\n",
    "\n",
    "A note on wake models?\n"
   ]
  },
  {
   "cell_type": "code",
   "execution_count": 12,
   "metadata": {},
   "outputs": [
    {
     "name": "stdout",
     "output_type": "stream",
     "text": [
      "0.9369197686619234\n"
     ]
    }
   ],
   "source": [
    "import numpy as np\n",
    "\n",
    "def jensen_wake(x, y):\n",
    "    \n",
    "    alpha = 0.1\n",
    "    beta = 9.0\n",
    "    delta = 5.0\n",
    "    theta = np.arctan(y/(x + delta))  \n",
    "    f = 0.0\n",
    "    \n",
    "    if np.abs(theta) < np.pi/beta:\n",
    "        f = 0.5*(1. + np.cos(beta*theta))\n",
    "    \n",
    "\n",
    "   # normalized by U_inf\n",
    "    U_hub = 1. - f*2./3.*(0.5/(0.5 + alpha*x))**2\n",
    "    \n",
    "    return U_hub\n",
    "\n",
    "# print jensen_wake(4.,2.)\n"
   ]
  },
  {
   "cell_type": "markdown",
   "metadata": {},
   "source": [
    "#### Layout\n",
    "\n",
    "We will begin by calculating the total power of a simplified wind farm with only four turbines.\n"
   ]
  },
  {
   "cell_type": "code",
   "execution_count": 43,
   "metadata": {},
   "outputs": [
    {
     "data": {
      "image/png": "[encoded data removed]",
      "text/plain": [
       "<matplotlib.figure.Figure at 0x7ff47e22d050>"
      ]
     },
     "metadata": {},
     "output_type": "display_data"
    }
   ],
   "source": [
    "import matplotlib.pyplot as plt\n",
    "\n",
    "x = [0., 3., 3., 0.]\n",
    "y = [0., 0., 3., 3.]\n",
    "\n",
    "plt.figure()\n",
    "ax = plt.axes()\n",
    "ax.arrow(-2, 3, 1., 0., head_width=0.2, head_length=0.2, fc='r', ec='r')\n",
    "ax.arrow(-2, 1.5, 1., 0., head_width=0.2, head_length=0.2, fc='r', ec='r')\n",
    "ax.arrow(-2, 0, 1., 0., head_width=0.2, head_length=0.2, fc='r', ec='r')\n",
    "\n",
    "plt.plot(x, y, \"b|\", markersize=30, mew=5)\n",
    "plt.xlim(-2, 5)\n",
    "plt.ylim(-2, 5)\n",
    "plt.xlabel(\"x\")\n",
    "plt.ylabel(\"y\")\n",
    "plt.show()"
   ]
  },
  {
   "cell_type": "code",
   "execution_count": 49,
   "metadata": {},
   "outputs": [
    {
     "name": "stdout",
     "output_type": "stream",
     "text": [
      "Power: [5.58374298e+04 4.41181005e+01 1.09057480e+02 5.58374298e+04]\n"
     ]
    }
   ],
   "source": [
    "\n",
    "def Jensen_Power(x, y):\n",
    "    \n",
    "    rho = 1.1716\n",
    "    a = 1. / 3.\n",
    "    Cp = 4.*a*(1-a)**2.\n",
    "    \n",
    "    r0 = 10.\n",
    "    U_inf = 8.\n",
    "    A = np.pi*r0**2\n",
    "    \n",
    "    U_hub = np.zeros(len(x))\n",
    "    Power = np.zeros(len(x))\n",
    "    \n",
    "    # Must account for cross overlap. This doesn't seem right.\n",
    "    \n",
    "    U_hub[0] = U_inf\n",
    "    U_hub[1] = jensen_wake(x[1], y[1])\n",
    "    U_hub[2] = jensen_wake(x[2], y[2])\n",
    "    U_hub[3] = U_inf\n",
    "    \n",
    "    # Calculate power from each turbine\n",
    "    for i in range(len(U_hub)):\n",
    "        \n",
    "        Power[i] = 0.5*rho*Cp*A*U_hub[i]**3\n",
    "    \n",
    "    return Power\n",
    "\n",
    "print \"Power:\", Jensen_Power(x,y)"
   ]
  },
  {
   "cell_type": "markdown",
   "metadata": {},
   "source": [
    "This is the power from each from each of the four turbines with wind coming from the west.\n",
    "\n",
    "We however need more information to meaningfully calculate the AEP since it is a function of the expected power.\n",
    "Mathematically given as,\n",
    "\n",
    "\\begin{equation}\n",
    "AEP = 8760\\frac{hr}{yr} E[P(\\boldsymbol{\\zeta})]\\\\\n",
    "where \\quad \\quad E[P(\\boldsymbol{\\zeta})] =  \\int _{\\Omega} P(\\boldsymbol{\\zeta}) \\rho(\\boldsymbol{\\zeta}) d\\boldsymbol{\\zeta}\n",
    "\\end{equation}\n",
    "\n",
    "where $\\boldsymbol{\\zeta} = (\\zeta_1 , \\zeta_2 , . . . , \\zeta_n)$ is a vector of random variables (the uncertain variables), $\\rho(\\boldsymbol{\\zeta}) = \\prod_{k=1}^{n} \\rho_k (\\zeta_k)$ is the joint probability density function of the uncertain variables, which we assume to be independent, $\\Omega$ is the domain of the uncertain variables, and $P$ is the power produced in the wind farm. Common uncertain variables are the wind direction and the freestream wind speed. \n",
    "\n",
    "We will consider the case of wind direction with some variability which is typically modelled as gaussian.\n"
   ]
  },
  {
   "cell_type": "code",
   "execution_count": 52,
   "metadata": {},
   "outputs": [
    {
     "data": {
      "image/png": "[encoded data removed]",
      "text/plain": [
       "<matplotlib.figure.Figure at 0x7ff47de63750>"
      ]
     },
     "metadata": {},
     "output_type": "display_data"
    }
   ],
   "source": [
    "\"\"\"not sure if showing the disdtribution is necessary\"\"\"\n",
    "import matplotlib.mlab as mlab\n",
    "\n",
    "mu = 0\n",
    "variance = 1\n",
    "sigma = np.sqrt(variance)\n",
    "x = np.linspace(mu - 3*sigma, mu + 3*sigma, 100)\n",
    "plt.plot(x,mlab.normpdf(x, mu, sigma))\n",
    "plt.show()"
   ]
  },
  {
   "cell_type": "code",
   "execution_count": null,
   "metadata": {
    "collapsed": true
   },
   "outputs": [],
   "source": []
  }
 ],
 "metadata": {
  "kernelspec": {
   "display_name": "Python 2",
   "language": "python",
   "name": "python2"
  },
  "language_info": {
   "codemirror_mode": {
    "name": "ipython",
    "version": 2
   },
   "file_extension": ".py",
   "mimetype": "text/x-python",
   "name": "python",
   "nbconvert_exporter": "python",
   "pygments_lexer": "ipython2",
   "version": "2.7.14"
  }
 },
 "nbformat": 4,
 "nbformat_minor": 2
}
