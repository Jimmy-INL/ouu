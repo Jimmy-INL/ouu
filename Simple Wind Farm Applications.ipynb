{
 "cells": [
  {
   "cell_type": "markdown",
   "metadata": {},
   "source": [
    "**This notebook is to be used in conjunction with the other resources in this repository.*\n",
    "\n",
    "Much investigation is carried out to predict the annual energy production (AEP), and Cost of Energy (COE) of wind farms in assessment of the viability of wind energy projects. Wind farm layout design is a multidisciplinary process with many design variables. Aerodynamic variables including wind speed and direction are  characterized by much uncertainty. However in some simulations these are usually treated deterministically, resulting in energy underproduction in the operational lifetimes of farms. To develop more robust models the afore mentioned design variables must be properly described to present a near real life situation. This work focuses on the quantification of uncertainties associated with yaw orientation, and wind speeds in wind farm layout optimization with Monte Carlo Methods. An understanding, and proper treatment of these uncertainties will greatly aid in the realization of more robust farm layout designs, ultimately improving the accuracy of annual power output predictions.\n",
    "\n",
    "\n",
    "### Example 1: AEP  Calculation\n",
    "\n",
    "The amount of wind energy converted into electrical energy by a wind farm is primarily dependent on the wind speed which is greatly reduced in wake regions. These are regions downstream of turbines where the wind speed is less than the free stream. They occur as a result of ... Kinematic models obtained from soloving the momentum equations are used to charaterize estimate the hub velocity of downstream turbines. One of the oldest of such models, created by N.O. Jensen is used in this work to estimate the wake effects and calculate the effective hub velocities due to it's simplicity. It is a simple wake model, assuming a linearly expanding wake with a\n",
    "velocity deficit that is only dependent of the distance behind the rotor. The wake diameter $D_w$ is given by\n",
    "\n",
    "\\begin{equation}\n",
    "D_w = D(1 + 2ks)\n",
    "\\end{equation}\n",
    "\n",
    "where $k$ is the wake decay constant with a typical value of 0.075 for land cases, and $s$ the relative distance behind the rotor defined as $s = x/D$. The velocity in the wake is then given by\n",
    "\n",
    "\\begin{equation}\n",
    "u = U_{\\infty}\\Bigg[1 - \\frac{1-\\sqrt{1-C_T}}{(1+2ks)^2}\\Bigg]\n",
    "\\end{equation}\n",
    "\n",
    "$C_T$ is the thrust coefficient of the rotor which is ususally smaller than 1. The reader is refered to [] for a detailed description of the Jensen wake model.\n",
    "\n",
    "We proceed by considering the power of a wind farm to be a function of three classes of variables: uncertain variables $\\zeta$, design variables $x$, and parameters $\\theta$, $ P = P(\\zeta, x, \\theta)$.\n",
    "\n",
    "  \n",
    "|   |   |\n",
    "|:---:|:---:|\n",
    "| **Design, $x,y$:** | turbine locations x, and y |\n",
    "| **Uncertain variables, $\\boldsymbol{\\zeta}$:** | wind, speed and direction |\n",
    "| **Parameters, $\\theta$:** | yaw angles, turbine characteristics, and wake model parameters|\n",
    "\n",
    "\n",
    "\n",
    "Uncertain variables are variables that follow a probability distribution, design variables are variables that an optimizer can vary, and parameters are constants. The classification of the variables is problem dependent. For instance, the height of a turbine could be considered as a design variable if we allow the optimizer to vary it, as an uncertain variable if we assume that due to terrain or manufacturing variability the exact height is unknown but follows a particular probability distribution, or as a parameter if we set the turbine height in the model at a fixed value. Another example is the rotor yaw, which can be considered a design variable or a parameter. A tunable parameter of a wake model, such as the wake coefficient expansion, could be\n",
    "considered as a parameter or as an uncertain variable given by a particular distribution.\n",
    "Table 1 lists the category of each variable that influences the power computation in this work. \n",
    "\n",
    "The power of the wind farm for a given wind direction and wind speed is equal to the sum of the power produced by each turbine\n",
    "\n",
    "\\begin{equation}\n",
    " P = \\sum_{i=1}^{n_{turb}} P_{i} \n",
    "\\end{equation}\n",
    "\n",
    "The power of each turbine is calculated from\n",
    "\n",
    "\\begin{equation}\n",
    " P_{i} = \\frac{1}{2}\\rho C_P A U_{i}^{3} \n",
    "\\end{equation}\n",
    "\n",
    "where $\\rho$ is the air density, $A$ is the rotor swept area, $C_P$ is the power coefficient, and $U_i$ is the effective hub velocity for each turbine, which is calculated by the wake model and is a function of the three types of variables described above.\n",
    "\n"
   ]
  },
  {
   "cell_type": "code",
   "execution_count": 345,
   "metadata": {
    "collapsed": true
   },
   "outputs": [],
   "source": [
    "import numpy as np\n",
    "\n",
    "\"\"\"the Jensen wake model\"\"\"\n",
    "\n",
    "def Jensen_wake(x,y, U):\n",
    "    \n",
    "    k = 0.075      # wake decay constant\n",
    "    D = 126.4      # rotor diameter\n",
    "    Ct = 0.8       # thrust coefficient\n",
    "    \n",
    "    s = x/D        # relative distance downwind \n",
    "    \n",
    "    Dw = D* (1. + 2.*k*s)               # wake diameter\n",
    "       \n",
    "    U_hub = U*(1. - (1. - np.sqrt(1. - Ct))/(1. + s*k*s)**2)          # hub velocity\n",
    "    \n",
    "    return U_hub"
   ]
  },
  {
   "cell_type": "markdown",
   "metadata": {},
   "source": [
    "#### Farm Layout\n",
    "\n",
    "We begin by calculating the total power of a simplified wind farm with only four turbines arranged in a 2 x 2 gird with a spacing of 3 turbine diameters. The prevailing wind direction is due west as indicated by the red arrows in the figure below. \n"
   ]
  },
  {
   "cell_type": "code",
   "execution_count": 408,
   "metadata": {},
   "outputs": [
    {
     "data": {
      "image/png": "[encoded data removed]",
      "text/plain": [
       "<matplotlib.figure.Figure at 0x7f8a2df2d3d0>"
      ]
     },
     "metadata": {},
     "output_type": "display_data"
    }
   ],
   "source": [
    "\"\"\"layout visualization\"\"\"\n",
    "\n",
    "import matplotlib.pyplot as plt\n",
    "\n",
    "D = 126.4          # rotor diameter\n",
    "\n",
    "x = [0., 3.*D, 3.*D, 0.]            # x and y locations\n",
    "y = [0., 0., 3.*D, 3.*D]\n",
    "\n",
    "plt.figure()\n",
    "ax = plt.axes()\n",
    "ax.arrow(-120, 375, 100., 0., head_width=15, head_length=10, fc='r', ec='r')\n",
    "ax.arrow(-120, 200, 100., 0., head_width=15, head_length=10, fc='r', ec='r')\n",
    "ax.arrow(-120, 0, 100., 0., head_width=15, head_length=10, fc='r', ec='r')\n",
    "\n",
    "plt.plot(x, y, \"b|\", markersize=30, mew=5)\n",
    "plt.xlim(-100, 500)\n",
    "plt.ylim(-100, 500)\n",
    "plt.xlabel(\"x\")\n",
    "plt.ylabel(\"y\")\n",
    "plt.title(\"Wind Farm Layout\")\n",
    "plt.show()"
   ]
  },
  {
   "cell_type": "code",
   "execution_count": 410,
   "metadata": {},
   "outputs": [
    {
     "name": "stdout",
     "output_type": "stream",
     "text": [
      "Power: [ 2230280.95623081  2218725.30291827  2218725.30291827  2230280.95623081] W\n"
     ]
    }
   ],
   "source": [
    "\"\"\" Power calculation \"\"\"\n",
    "\n",
    "\n",
    "def Jensen_Power(x, y, U):\n",
    "    \n",
    "    rho = 1.1716                   # air density   \n",
    "    a = 1. / 3.                    # axial induction\n",
    "    Cp = 4.*a*(1-a)**2.            #power coefficient\n",
    "    \n",
    "    D = 126.4\n",
    "    \n",
    "    r0 = D/2.\n",
    "\n",
    "    A = np.pi*r0**2        #  rotor swept area\n",
    "    \n",
    "    U_hub1 = np.zeros(len(x))\n",
    "    Power = np.zeros(len(x))\n",
    "    \n",
    "    \n",
    "    U_hub1[0] = U\n",
    "    U_hub1[1] = Jensen_wake((x[1]-x[0]), (y[1]-y[0]), U)\n",
    "    U_hub1[2] = Jensen_wake((x[2]-x[3]), (y[2]-y[3]), U)\n",
    "    U_hub1[3] = U\n",
    "    \n",
    "    # Calculate power from each turbine\n",
    "    for i in range(len(U_hub1)):\n",
    "        \n",
    "        Power[i] = 0.5*rho*Cp*A*U_hub1[i]**3\n",
    "           \n",
    "    return Power\n",
    "\n",
    "U = 8.\n",
    "\n",
    "print \"Power:\", Jensen_Power(x,y, U), \"W\"\n"
   ]
  },
  {
   "cell_type": "markdown",
   "metadata": {},
   "source": [
    "The power from each from each of the four turbines is printed above. Due to the symmetry (and simplicity) of this problem we see that power from the two leftmost turbines is identical as is that from the two downwind (rightmost) ones. The lower power is an indication of wake effects previously mentioned."
   ]
  },
  {
   "cell_type": "markdown",
   "metadata": {},
   "source": [
    "We however need more information to meaningfully calculate the AEP since it is a function of the expected power.\n",
    "Mathematically given as,\n",
    "\n",
    "\\begin{equation}\n",
    "AEP = 8760\\frac{hr}{yr} E[P(\\boldsymbol{\\zeta})]\\\\\n",
    "where \\quad \\quad E[P(\\boldsymbol{\\zeta})] =  \\int _{\\Omega} P(\\boldsymbol{\\zeta}) \\rho(\\boldsymbol{\\zeta}) d\\boldsymbol{\\zeta}\n",
    "\\end{equation}\n",
    "\n",
    "where $\\boldsymbol{\\zeta} = (\\zeta_1 , \\zeta_2 , . . . , \\zeta_n)$ is a vector of random variables (the uncertain variables), $\\rho(\\boldsymbol{\\zeta}) = \\prod_{k=1}^{n} \\rho_k (\\zeta_k)$ is the joint probability density function of the uncertain variables, which we assume to be independent, $\\Omega$ is the domain of the uncertain variables, and $P$ is the power produced in the wind farm. Common uncertain variables are the wind direction and the freestream wind speed. \n",
    "\n",
    "We now compute the AEP deterministically, by considering the wind speed to be constant value of $8 m/s$ all year round.\n",
    "\n"
   ]
  },
  {
   "cell_type": "code",
   "execution_count": 411,
   "metadata": {},
   "outputs": [
    {
     "name": "stdout",
     "output_type": "stream",
     "text": [
      "19.4866474151 GWh\n"
     ]
    }
   ],
   "source": [
    "# deterministic AEP calculation\n",
    "\n",
    "Powers = Jensen_Power(x, y, U)\n",
    "# print Powers\n",
    "Average_Power = np.mean(Powers)\n",
    "\n",
    "AEP = 8760 * Average_Power/1000000000. \n",
    "              \n",
    "print AEP, \"GWh\""
   ]
  },
  {
   "cell_type": "markdown",
   "metadata": {},
   "source": [
    "In reality however the wind speed is characterized by variability, and is typically modelled with a Weibull distribution. In this problem we use Weibull distribution that gives a minimum speed of $0 m/s$ and a maximum of $40 m/s$ with an average speed of $8 m/s$."
   ]
  },
  {
   "cell_type": "code",
   "execution_count": 366,
   "metadata": {},
   "outputs": [
    {
     "data": {
      "image/png": "[encoded data removed]",
      "text/plain": [
       "<matplotlib.figure.Figure at 0x7f8a2dfabcd0>"
      ]
     },
     "metadata": {},
     "output_type": "display_data"
    }
   ],
   "source": [
    "# Weibul distribution\n",
    "\n",
    "def Weibull(a, b, x1):\n",
    "    a = 1.8\n",
    "    b = 12.552983\n",
    "    lo = 0.0\n",
    "    hi = 40.0  # cdf(80) = 1, to machine precision\n",
    "    \n",
    "    F = 1 - np.exp(-(x1/b)**a)   # cdf\n",
    "    \n",
    "    f = a/b * (x1/b)**(a-1) * np.exp(-(x1/b)**a)  # pdf\n",
    "    \n",
    "#     bnd = [lo, hi]\n",
    "\n",
    "    return f#, F\n",
    "\n",
    "\n",
    "x1 = np.linspace(0,40,100)\n",
    "plt.figure()\n",
    "plt.plot(x1, Weibull(1.8,12.55, x1),'b-')\n",
    "plt.xlabel('wind speed, $\\zeta$ in m/s')\n",
    "plt.ylabel('$\\\\rho(\\zeta)$')\n",
    "plt.title('Wind speed distribution')\n",
    "plt.show()\n",
    "\n",
    "# f = Weibull(1.8,12.55,0.0, 40.0, x1)\n",
    "# print f.sample(20)"
   ]
  },
  {
   "cell_type": "markdown",
   "metadata": {},
   "source": [
    "We will first do a quick Monte Carlo simulation for an accurate baseline AEP to compare our results with. We can see from the convergence plot below that a $100000$ samples (using Hammersly sampling) will be sufficient for this analysis."
   ]
  },
  {
   "attachments": {
    "Monte_Carlo_AEP_convergence.svg": {
     "image/svg+xml": [
      "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"
     ]
    }
   },
   "cell_type": "markdown",
   "metadata": {},
   "source": [
    "![Monte_Carlo_AEP_convergence.svg](attachment:Monte_Carlo_AEP_convergence.svg)"
   ]
  },
  {
   "cell_type": "code",
   "execution_count": 403,
   "metadata": {
    "scrolled": true
   },
   "outputs": [
    {
     "name": "stdout",
     "output_type": "stream",
     "text": [
      "(86.102098875051453, 'GWh')\n"
     ]
    }
   ],
   "source": [
    "import chaospy  as cp\n",
    "\n",
    "dist = cp.Weibull(1.8, 12.55, 0.) # wind speed distribution\n",
    "\n",
    "U_inf = dist.sample(120000, \"M\")\n",
    "\n",
    "solves = np.zeros((len(U_inf), len(x)))\n",
    "mu_mc = np.zeros(len(U_inf))\n",
    "\n",
    "for i in range(len(solves)):\n",
    "    solves[i,:] = Jensen_Power(x,y, U_inf[i])# for s in U_inf]\n",
    "    mu_mc[i] = np.mean(solves[i,:])\n",
    "\n",
    "# print solves\n",
    "\n",
    "AEP_mc = 8760*np.mean(mu_mc)/1000000000., \"GWh\"\n",
    "\n",
    "print AEP_mc"
   ]
  },
  {
   "cell_type": "markdown",
   "metadata": {},
   "source": [
    "Next we calculate the AEP with polynomial chaos expansions. The power will be approximated with a polynomial as\n",
    "\n",
    "\\begin{equation}\n",
    "P(\\zeta) \\approx \\sum_{i=0}^{n}\\alpha_i \\phi_i (\\zeta)\n",
    "\\end{equation}\n",
    "\n",
    "where $\\alpha_i$ are the expansion coefficients, and $\\phi_i$ orthogonal polynomials with respect to the pdf of the uncertain variable; the wind speed in this case. The mean power $E[P(\\zeta)] = \\alpha_0$, the first expansion coefficient. The $AEP$ will then be calculated as\n",
    "\n",
    "\\begin{equation}\n",
    "AEP = E[P(\\zeta)] \\times hours/year\n",
    "\\end{equation}\n",
    "\n",
    "We will calculate the expansion coefficients using both methods discussed in [] --- quadrature, and regression."
   ]
  },
  {
   "cell_type": "code",
   "execution_count": 404,
   "metadata": {
    "scrolled": true
   },
   "outputs": [
    {
     "name": "stdout",
     "output_type": "stream",
     "text": [
      "(86.119744636379266,) :,GWh\n",
      "(86.119744373681428,) :,GWh\n"
     ]
    }
   ],
   "source": [
    "# Quadrature\n",
    "\n",
    "order = 5\n",
    "\n",
    "poly = cp.orth_ttr(order, dist)\n",
    "nodes, weights = cp.generate_quadrature(order+1, dist1, rule=\"G\")\n",
    "\n",
    "solves1 = [Jensen_Power(x, y, s) for s in nodes.T]\n",
    "P_hat1 = cp.fit_quadrature(poly, nodes, weights,solves1)\n",
    "\n",
    "mu_quad = cp.E(P_hat1, dist)     # mean from the quadrature method\n",
    "\n",
    "AEP_quad = 8760*np.mean(mu_quad)/1000000000.,\n",
    "\n",
    "print AEP_quad,\":,GWh\"\n",
    "\n",
    "# Regression\n",
    "\n",
    "nodes2 = dist1.sample(3*len(poly), \"H\")\n",
    "\n",
    "solves2 = [Jensen_Power(x,y, s) for s in nodes2.T]\n",
    "P_hat2 = cp.fit_regression(poly, nodes2, solves2,rule=\"T\")\n",
    "\n",
    "mu_reg = cp.E(P_hat2, dist)     #mean from regression\n",
    "\n",
    "AEP_reg = 8760*np.mean(mean2)/1000000000., \n",
    "\n",
    "print AEP_reg,\":,GWh\""
   ]
  },
  {
   "cell_type": "markdown",
   "metadata": {
    "collapsed": true
   },
   "source": [
    "The AEP's calculated using both methods are identical since it is a function of the mean power (the first expansion coefficient) which calculated from the same expansion is the same."
   ]
  },
  {
   "cell_type": "markdown",
   "metadata": {
    "collapsed": true
   },
   "source": [
    "### Discussion\n",
    "\n",
    "The table below gives a summary of the results obtained from the different methods. We can see a strong agreement between Monte Carlo and polynomial chaos. The deterministic case is however significantly lower. This is largely due to the farm layout used in this analysis. A larger wind farm with turbines more spread out will show results from all methods in better agreement. A more meaningful study will aslo include an optimization of say positioning for AEP, or COE.\n",
    "\n",
    "|**Method**| **AEP (GWh) **|\n",
    "|:---:|:---:|\n",
    "|Deterministic| 14.826 |\n",
    "|Monte Carlo| 86.099 |\n",
    "|PC_regression| 86.120 |\n",
    "|PC_quadrature|  86.120|\n",
    "\n",
    "\n"
   ]
  },
  {
   "cell_type": "markdown",
   "metadata": {
    "collapsed": true
   },
   "source": [
    "### References\n"
   ]
  }
 ],
 "metadata": {
  "kernelspec": {
   "display_name": "Python 2",
   "language": "python",
   "name": "python2"
  },
  "language_info": {
   "codemirror_mode": {
    "name": "ipython",
    "version": 2
   },
   "file_extension": ".py",
   "mimetype": "text/x-python",
   "name": "python",
   "nbconvert_exporter": "python",
   "pygments_lexer": "ipython2",
   "version": "2.7.14"
  }
 },
 "nbformat": 4,
 "nbformat_minor": 2
}
